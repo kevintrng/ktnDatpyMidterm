{
 "cells": [
  {
   "cell_type": "markdown",
   "metadata": {},
   "source": [
    "# Data Processing with Python\n",
    "## Midterm\n",
    "#### Kevin Tran Nguyen, April 6th, 2021"
   ]
  },
  {
   "cell_type": "code",
   "execution_count": 445,
   "metadata": {},
   "outputs": [],
   "source": [
    "import requests\n",
    "import pandas as pd\n",
    "import numpy as np\n",
    "from bs4 import BeautifulSoup\n",
    "import time\n",
    "import matplotlib.pyplot as plt"
   ]
  },
  {
   "cell_type": "code",
   "execution_count": 46,
   "metadata": {},
   "outputs": [
    {
     "name": "stdout",
     "output_type": "stream",
     "text": [
      "True\n",
      "{\"data\": {\"personal_code\": \"a53c9034\", \"dataset_ids\": [\"503981c9e8\", \"2d1aef30ed\", \"11f651d1ee\", \"f45ec2e9fc\"]}, \"message\": \"Hello, Tran Nguyen Thai Nhat Phi, Bc! Good luck with the midterm. GET your data set from /data/file_id endpoint; use the codes you received in the data response as the file_id parameter! Print the personal code in your notebook.\"}\n"
     ]
    }
   ],
   "source": [
    "login = {'cuni':'32714879'}\n",
    "r = requests.post(\"https://ies-midterm.soulution.rocks/login\", json = login)\n",
    "print(r.ok)\n",
    "print(r.text)\n",
    "output = r.json()"
   ]
  },
  {
   "cell_type": "code",
   "execution_count": 47,
   "metadata": {},
   "outputs": [
    {
     "name": "stdout",
     "output_type": "stream",
     "text": [
      "a53c9034\n"
     ]
    },
    {
     "data": {
      "text/plain": [
       "['503981c9e8', '2d1aef30ed', '11f651d1ee', 'f45ec2e9fc']"
      ]
     },
     "execution_count": 47,
     "metadata": {},
     "output_type": "execute_result"
    }
   ],
   "source": [
    "print(output['data']['personal_code'])\n",
    "code_list = output['data']['dataset_ids']\n",
    "code_list"
   ]
  },
  {
   "cell_type": "code",
   "execution_count": 79,
   "metadata": {},
   "outputs": [
    {
     "ename": "SyntaxError",
     "evalue": "invalid syntax (<ipython-input-79-a3d325a207bd>, line 1)",
     "output_type": "error",
     "traceback": [
      "\u001b[0;36m  File \u001b[0;32m\"<ipython-input-79-a3d325a207bd>\"\u001b[0;36m, line \u001b[0;32m1\u001b[0m\n\u001b[0;31m    try\u001b[0m\n\u001b[0m       ^\u001b[0m\n\u001b[0;31mSyntaxError\u001b[0m\u001b[0;31m:\u001b[0m invalid syntax\n"
     ]
    }
   ],
   "source": [
    "try\n",
    "    except all([dt.ok for dt in datasets]):\n",
    "        datasets = [requests.get(f\"https://ies-midterm.soulution.rocks/data/{dataid}\") for dataid in code_list]\n",
    "    finally:\n",
    "        datasets = [requests.get(f\"https://ies-midterm.soulution.rocks/data/{dataid}\") for dataid in code_list]"
   ]
  },
  {
   "cell_type": "code",
   "execution_count": 87,
   "metadata": {},
   "outputs": [],
   "source": [
    "datasets = []\n",
    "for dt in code_list:\n",
    "    status_codes = [requests.get(f\"https://ies-midterm.soulution.rocks/data/{dataid}\") for dataid in code_list]\n",
    "    if all(status_codes):\n",
    "        datasets.append(requests.get(f\"https://ies-midterm.soulution.rocks/data/{code_list}\").json)"
   ]
  },
  {
   "cell_type": "code",
   "execution_count": 466,
   "metadata": {},
   "outputs": [],
   "source": [
    "try:\n",
    "    datasets = [requests.get(f\"https://ies-midterm.soulution.rocks/data/{dataid}\") for dataid in code_list]\n",
    "except requests.exceptions.RequestException as e:\n",
    "    print('Error')"
   ]
  },
  {
   "cell_type": "code",
   "execution_count": 159,
   "metadata": {},
   "outputs": [],
   "source": [
    "def getDatasets(codes):\n",
    "    r = [requests.get(f\"https://ies-midterm.soulution.rocks/data/{dataid}\") for dataid in codes]\n",
    "    if any([req.ok for req in r]):\n",
    "        return print('Error Occured, Retry')\n",
    "    else:\n",
    "        return [data.json() for data in r]"
   ]
  },
  {
   "cell_type": "code",
   "execution_count": 177,
   "metadata": {},
   "outputs": [
    {
     "data": {
      "text/plain": [
       "[<Response [503]>, <Response [200]>, <Response [503]>, <Response [503]>]"
      ]
     },
     "execution_count": 177,
     "metadata": {},
     "output_type": "execute_result"
    }
   ],
   "source": [
    "datasets"
   ]
  },
  {
   "cell_type": "code",
   "execution_count": 117,
   "metadata": {},
   "outputs": [],
   "source": [
    "#data_retrieved = [dt.json() for dt in datasets]\n",
    "data_retrieved"
   ]
  },
  {
   "cell_type": "markdown",
   "metadata": {},
   "source": [
    "# Part TWO"
   ]
  },
  {
   "cell_type": "code",
   "execution_count": 217,
   "metadata": {},
   "outputs": [],
   "source": [
    "dataseries = []\n",
    "for dt in data_retrieved:\n",
    "    dataseries.append(pd.DataFrame(dt['data']['data']).assign(company = dt['data']['company']))"
   ]
  },
  {
   "cell_type": "code",
   "execution_count": 446,
   "metadata": {},
   "outputs": [
    {
     "data": {
      "text/plain": [
       "[0      2019-01-02\n",
       " 1      2019-01-03\n",
       " 2      2019-01-04\n",
       " 3      2019-01-07\n",
       " 4      2019-01-08\n",
       "           ...    \n",
       " 474    2020-11-17\n",
       " 475    2020-11-18\n",
       " 476    2020-11-19\n",
       " 477    2020-11-20\n",
       " 478              \n",
       " Name: Date, Length: 479, dtype: object,\n",
       " 0      2019-01-02\n",
       " 1      2019-01-03\n",
       " 2      2019-01-04\n",
       " 3      2019-01-07\n",
       " 4      2019-01-08\n",
       "           ...    \n",
       " 474    2020-11-17\n",
       " 475    2020-11-18\n",
       " 476    2020-11-19\n",
       " 477    2020-11-20\n",
       " 478              \n",
       " Name: Date, Length: 479, dtype: object,\n",
       " 0      2019-01-02\n",
       " 1      2019-01-03\n",
       " 2      2019-01-04\n",
       " 3      2019-01-07\n",
       " 4      2019-01-08\n",
       "           ...    \n",
       " 474    2020-11-17\n",
       " 475    2020-11-18\n",
       " 476    2020-11-19\n",
       " 477    2020-11-20\n",
       " 478              \n",
       " Name: Date, Length: 479, dtype: object,\n",
       " 0      2019-01-02\n",
       " 1      2019-01-03\n",
       " 2      2019-01-04\n",
       " 3      2019-01-07\n",
       " 4      2019-01-08\n",
       "           ...    \n",
       " 474    2020-11-17\n",
       " 475    2020-11-18\n",
       " 476    2020-11-19\n",
       " 477    2020-11-20\n",
       " 478              \n",
       " Name: Date, Length: 479, dtype: object]"
      ]
     },
     "execution_count": 446,
     "metadata": {},
     "output_type": "execute_result"
    }
   ],
   "source": [
    "#the time series should be from 2019-01-02 to 2020-11-20. Is it the case in your sample?\n",
    "[dt['Date'] for dt in dataseries]"
   ]
  },
  {
   "cell_type": "code",
   "execution_count": 273,
   "metadata": {},
   "outputs": [
    {
     "name": "stdout",
     "output_type": "stream",
     "text": [
      "Company WPP \n",
      " \n",
      "Maximum is: 65.34528350830078 \n",
      "Minimum is: 25.797861099243164\n",
      "\n",
      "Company RIO \n",
      " \n",
      "Maximum is: 65.43000030517578 \n",
      "Minimum is: 35.546142578125\n",
      "\n",
      "Company MNG \n",
      " \n",
      "Maximum is: 45.31999969482422 \n",
      "Minimum is: 14.93000030517578\n",
      "\n",
      "Company AAL \n",
      " \n",
      "Maximum is: 36.44142532348633 \n",
      "Minimum is: 9.039999961853027\n",
      "\n"
     ]
    },
    {
     "data": {
      "text/plain": [
       "[None, None, None, None]"
      ]
     },
     "execution_count": 273,
     "metadata": {},
     "output_type": "execute_result"
    }
   ],
   "source": [
    "#what is the highest and lowest Adj Close price the company recorded?\n",
    "[print(f'Company {dt.company[0]} \\n \\nMaximum is: {pd.to_numeric(dt[\"Adj.Close\"]).max()} \\nMinimum is: {pd.to_numeric(dt[\"Adj.Close\"]).min()}\\n') for dt in dataseries]"
   ]
  },
  {
   "cell_type": "code",
   "execution_count": 483,
   "metadata": {},
   "outputs": [
    {
     "data": {
      "text/plain": [
       "[[           Date                Open               High                Low  \\\n",
       "  328  2020-04-22  33.150001525878906  33.63999938964844  32.79999923706055   \n",
       "  \n",
       "                   Close  Adj.Close     Volume company  \n",
       "  328  33.40999984741211  31.059694  2324200.0     WPP  ,\n",
       "            Date               Open               High                Low  \\\n",
       "  52  2019-03-19  58.04999923706055  58.08000183105469  56.06999969482422   \n",
       "  \n",
       "                  Close          Adj.Close   Volume company  \n",
       "  52  56.52000045776367  50.41569900512695  7251400     RIO  ,\n",
       "           Date                Open                High                 Low  \\\n",
       "  0  2019-01-02  35.630001068115234  36.810001373291016  34.709999084472656   \n",
       "  \n",
       "                 Close          Adj.Close Volume company  \n",
       "  0  36.65999984741211  36.65999984741211      0     MNG  ,\n",
       "             Date   Open                High                 Low  \\\n",
       "  359  2020-06-05  21.25  22.799999237060547  17.799999237060547   \n",
       "  \n",
       "                   Close          Adj.Close     Volume company  \n",
       "  359  18.59000015258789  18.59000015258789  428617100     AAL  ]]"
      ]
     },
     "execution_count": 483,
     "metadata": {},
     "output_type": "execute_result"
    }
   ],
   "source": [
    "#what day was the highest number of shares traded\n",
    "#dataseries[0]['Volume'] = pd.to_numeric(dataseries[0]['Volume']\n",
    "dataseries[0].iloc[[dataseries[0]['Volume'].idxmax()]]\n",
    "maxvol = []\n",
    "maxvol.append([dataseries[i].iloc[[pd.to_numeric(dataseries[i]['Volume']).idxmax()]] for i in range(4)])                             \n",
    "maxvol"
   ]
  },
  {
   "cell_type": "code",
   "execution_count": 358,
   "metadata": {},
   "outputs": [],
   "source": [
    "#what is the total of shares traded\n",
    "dataseries_concat = pd.concat([dt for dt in dataseries])\n",
    "dataseries_concat\n",
    "maxvols = [dataseries[0]['Volume'].sum(),\n",
    "pd.to_numeric(dataseries[1]['Volume']).sum(),\n",
    "pd.to_numeric(dataseries[2]['Volume']).sum(),\n",
    "pd.to_numeric(dataseries[3]['Volume']).sum()]"
   ]
  },
  {
   "cell_type": "code",
   "execution_count": 363,
   "metadata": {},
   "outputs": [
    {
     "data": {
      "text/plain": [
       "<AxesSubplot:>"
      ]
     },
     "execution_count": 363,
     "metadata": {},
     "output_type": "execute_result"
    },
    {
     "data": {
      "image/png": "[encoded data removed]",
      "text/plain": [
       "<Figure size 432x288 with 1 Axes>"
      ]
     },
     "metadata": {
      "needs_background": "light"
     },
     "output_type": "display_data"
    }
   ],
   "source": [
    "#for the company with the highest volume of shares traded over the whole period, plot their share price over time\n",
    "pd.to_numeric(dataseries[pd.Series(maxvols).idxmax()]['Adj.Close']).plot()"
   ]
  },
  {
   "cell_type": "code",
   "execution_count": 467,
   "metadata": {},
   "outputs": [
    {
     "name": "stdout",
     "output_type": "stream",
     "text": [
      "[[365, 308, 301, 358], [318, 306, 297, 304]]\n"
     ]
    }
   ],
   "source": [
    "#when did the company record the highest gain and highest loss for the day? (logarithmic loss)\n",
    "logretsmax = [np.log(pd.to_numeric(dataseries[i]['Close'])/pd.to_numeric(dataseries[i]['Open'])).idxmax() for i in range(4)]\n",
    "logretsmin = [np.log(pd.to_numeric(dataseries[i]['Close'])/pd.to_numeric(dataseries[i]['Open'])).idxmin() for i in range(4)]\n",
    "print([logretsmax,logretsmin])"
   ]
  },
  {
   "cell_type": "code",
   "execution_count": 387,
   "metadata": {},
   "outputs": [
    {
     "data": {
      "text/plain": [
       "<AxesSubplot:>"
      ]
     },
     "execution_count": 387,
     "metadata": {},
     "output_type": "execute_result"
    },
    {
     "data": {
      "image/png": "[encoded data removed]",
      "text/plain": [
       "<Figure size 432x288 with 1 Axes>"
      ]
     },
     "metadata": {
      "needs_background": "light"
     },
     "output_type": "display_data"
    }
   ],
   "source": [
    "#plot the log returns for the company that has the largest difference between opening and closing price. What day and what company did it occur at?\n",
    "np.log(pd.to_numeric(dataseries[pd.Series(logretsmax).idxmax()]['Close'])/pd.to_numeric(dataseries[pd.Series(logretsmax).idxmax()]['Open'])).plot()"
   ]
  },
  {
   "cell_type": "code",
   "execution_count": 479,
   "metadata": {},
   "outputs": [
    {
     "data": {
      "text/html": [
       "<div>\n",
       "<style scoped>\n",
       "    .dataframe tbody tr th:only-of-type {\n",
       "        vertical-align: middle;\n",
       "    }\n",
       "\n",
       "    .dataframe tbody tr th {\n",
       "        vertical-align: top;\n",
       "    }\n",
       "\n",
       "    .dataframe thead th {\n",
       "        text-align: right;\n",
       "    }\n",
       "</style>\n",
       "<table border=\"1\" class=\"dataframe\">\n",
       "  <thead>\n",
       "    <tr style=\"text-align: right;\">\n",
       "      <th></th>\n",
       "      <th>Adj.Close</th>\n",
       "      <th>Adj.Close</th>\n",
       "      <th>Adj.Close</th>\n",
       "      <th>Adj.Close</th>\n",
       "    </tr>\n",
       "  </thead>\n",
       "  <tbody>\n",
       "    <tr>\n",
       "      <th>9</th>\n",
       "      <td>1.142277</td>\n",
       "      <td>1.228630</td>\n",
       "      <td>1.941181</td>\n",
       "      <td>0.875448</td>\n",
       "    </tr>\n",
       "    <tr>\n",
       "      <th>10</th>\n",
       "      <td>0.992925</td>\n",
       "      <td>1.064103</td>\n",
       "      <td>1.698326</td>\n",
       "      <td>0.899025</td>\n",
       "    </tr>\n",
       "    <tr>\n",
       "      <th>11</th>\n",
       "      <td>0.623388</td>\n",
       "      <td>0.546522</td>\n",
       "      <td>1.232263</td>\n",
       "      <td>0.658807</td>\n",
       "    </tr>\n",
       "    <tr>\n",
       "      <th>12</th>\n",
       "      <td>0.424154</td>\n",
       "      <td>0.486005</td>\n",
       "      <td>0.900351</td>\n",
       "      <td>0.779648</td>\n",
       "    </tr>\n",
       "    <tr>\n",
       "      <th>13</th>\n",
       "      <td>0.341872</td>\n",
       "      <td>0.404606</td>\n",
       "      <td>0.679134</td>\n",
       "      <td>0.774633</td>\n",
       "    </tr>\n",
       "    <tr>\n",
       "      <th>...</th>\n",
       "      <td>...</td>\n",
       "      <td>...</td>\n",
       "      <td>...</td>\n",
       "      <td>...</td>\n",
       "    </tr>\n",
       "    <tr>\n",
       "      <th>473</th>\n",
       "      <td>3.629739</td>\n",
       "      <td>2.011050</td>\n",
       "      <td>1.250222</td>\n",
       "      <td>0.692908</td>\n",
       "    </tr>\n",
       "    <tr>\n",
       "      <th>474</th>\n",
       "      <td>3.448956</td>\n",
       "      <td>1.940385</td>\n",
       "      <td>1.378207</td>\n",
       "      <td>0.676793</td>\n",
       "    </tr>\n",
       "    <tr>\n",
       "      <th>475</th>\n",
       "      <td>2.785075</td>\n",
       "      <td>1.402214</td>\n",
       "      <td>1.312242</td>\n",
       "      <td>0.576319</td>\n",
       "    </tr>\n",
       "    <tr>\n",
       "      <th>476</th>\n",
       "      <td>2.285092</td>\n",
       "      <td>0.807644</td>\n",
       "      <td>1.235675</td>\n",
       "      <td>0.539955</td>\n",
       "    </tr>\n",
       "    <tr>\n",
       "      <th>477</th>\n",
       "      <td>1.063675</td>\n",
       "      <td>0.602569</td>\n",
       "      <td>0.805167</td>\n",
       "      <td>0.425003</td>\n",
       "    </tr>\n",
       "  </tbody>\n",
       "</table>\n",
       "<p>469 rows × 4 columns</p>\n",
       "</div>"
      ],
      "text/plain": [
       "     Adj.Close  Adj.Close  Adj.Close  Adj.Close\n",
       "9     1.142277   1.228630   1.941181   0.875448\n",
       "10    0.992925   1.064103   1.698326   0.899025\n",
       "11    0.623388   0.546522   1.232263   0.658807\n",
       "12    0.424154   0.486005   0.900351   0.779648\n",
       "13    0.341872   0.404606   0.679134   0.774633\n",
       "..         ...        ...        ...        ...\n",
       "473   3.629739   2.011050   1.250222   0.692908\n",
       "474   3.448956   1.940385   1.378207   0.676793\n",
       "475   2.785075   1.402214   1.312242   0.576319\n",
       "476   2.285092   0.807644   1.235675   0.539955\n",
       "477   1.063675   0.602569   0.805167   0.425003\n",
       "\n",
       "[469 rows x 4 columns]"
      ]
     },
     "execution_count": 479,
     "metadata": {},
     "output_type": "execute_result"
    }
   ],
   "source": [
    "pd.concat([dataseries[i]['Adj.Close'].rolling(10).std() for i in range(4)], axis = 1).drop([0,1,2,3,4,5,6,7,8,478])"
   ]
  },
  {
   "cell_type": "code",
   "execution_count": 444,
   "metadata": {},
   "outputs": [
    {
     "data": {
      "text/plain": [
       "[<matplotlib.lines.Line2D at 0x7fcef4628b50>]"
      ]
     },
     "execution_count": 444,
     "metadata": {},
     "output_type": "execute_result"
    },
    {
     "data": {
      "image/png": "[encoded data removed]",
      "text/plain": [
       "<Figure size 432x288 with 1 Axes>"
      ]
     },
     "metadata": {
      "needs_background": "light"
     },
     "output_type": "display_data"
    }
   ],
   "source": [
    "adjprices = pd.concat([dataseries[i]['Adj.Close'] for i in range(4)], axis = 1)\n",
    "adjprices.columns = ['WPP','RIO','MNG','AAL']\n",
    "plt.plot(adjprices['WPP'])\n",
    "#plt.plot(adjprices['RIO'])\n",
    "#plt.plot(adjprices['MNG'])\n",
    "#plt.plot(adjprices['AAL'])"
   ]
  },
  {
   "cell_type": "markdown",
   "metadata": {},
   "source": [
    "Below is converison of the dataframe columns into numerics, which was achieved too late though...."
   ]
  },
  {
   "cell_type": "code",
   "execution_count": 465,
   "metadata": {},
   "outputs": [],
   "source": [
    "dataseries_numeric = [dataseries[i][list(dataseries[i].columns[1:7])].apply(pd.to_numeric) for i in range(4)]"
   ]
  }
 ],
 "metadata": {
  "kernelspec": {
   "display_name": "Python 3",
   "language": "python",
   "name": "python3"
  },
  "language_info": {
   "codemirror_mode": {
    "name": "ipython",
    "version": 3
   },
   "file_extension": ".py",
   "mimetype": "text/x-python",
   "name": "python",
   "nbconvert_exporter": "python",
   "pygments_lexer": "ipython3",
   "version": "3.8.5"
  }
 },
 "nbformat": 4,
 "nbformat_minor": 4
}
